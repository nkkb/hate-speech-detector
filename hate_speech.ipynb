{
 "cells": [
  {
   "cell_type": "code",
   "execution_count": 1,
   "id": "8a5295ba-87a6-42d8-9331-7e7d7b598592",
   "metadata": {},
   "outputs": [],
   "source": [
    "import pandas as pd\n",
    "import numpy as np\n",
    "import re\n",
    "import tensorflow as tf\n",
    "from sklearn.model_selection import train_test_split\n",
    "from sklearn.metrics import classification_report, accuracy_score\n",
    "from tensorflow.keras.preprocessing.text import Tokenizer\n",
    "from tensorflow.keras.preprocessing.sequence import pad_sequences\n",
    "from tensorflow.keras.models import Sequential\n",
    "from tensorflow.keras.layers import Embedding, LSTM, GlobalMaxPool1D, Dense, Dropout\n"
   ]
  },
  {
   "cell_type": "code",
   "execution_count": 2,
   "id": "e3f65106-2f8c-4c3c-961e-e08e059b7fb1",
   "metadata": {},
   "outputs": [],
   "source": [
    "data = pd.read_csv('labeled_data.csv')\n",
    "\n",
    "def clean_text(text):\n",
    "    text = text.lower()\n",
    "    text = re.sub(r'http\\S+', '', text)\n",
    "    text = re.sub(r'@\\w+|#\\w+', '', text)\n",
    "    text = re.sub(r'[^\\w\\s]', '', text)\n",
    "    text = text.strip()\n",
    "    return text\n",
    "\n",
    "data['cleaned_tweet'] = data['comment_text'].apply(clean_text)\n",
    "\n",
    "X = data['cleaned_tweet'].values\n",
    "y = data['class'].values\n",
    "\n",
    "X_train, X_val, y_train, y_val = train_test_split(X, y, test_size=0.2, random_state=42)\n"
   ]
  },
  {
   "cell_type": "code",
   "execution_count": 3,
   "id": "90c8c83c-a03c-43bc-b1ac-dde98a239fc0",
   "metadata": {},
   "outputs": [],
   "source": [
    "tokenizer = Tokenizer(num_words=5000)\n",
    "tokenizer.fit_on_texts(X_train)\n",
    "\n",
    "X_train_seq = tokenizer.texts_to_sequences(X_train)\n",
    "X_val_seq = tokenizer.texts_to_sequences(X_val)\n",
    "\n",
    "X_train_padded = pad_sequences(X_train_seq, maxlen=100, padding='post')\n",
    "X_val_padded = pad_sequences(X_val_seq, maxlen=100, padding='post')\n"
   ]
  },
  {
   "cell_type": "code",
   "execution_count": 4,
   "id": "6dfcd1a0-7d16-4cd4-b254-688b24f661c9",
   "metadata": {},
   "outputs": [
    {
     "name": "stderr",
     "output_type": "stream",
     "text": [
      "C:\\Users\\ilyes\\AppData\\Roaming\\Python\\Python312\\site-packages\\keras\\src\\layers\\core\\embedding.py:90: UserWarning: Argument `input_length` is deprecated. Just remove it.\n",
      "  warnings.warn(\n"
     ]
    }
   ],
   "source": [
    "model = Sequential([\n",
    "    Embedding(input_dim=5000, output_dim=128, input_length=100),\n",
    "    LSTM(64, return_sequences=True),\n",
    "    GlobalMaxPool1D(),\n",
    "    Dense(64, activation='relu'),\n",
    "    Dropout(0.5),\n",
    "    Dense(2, activation='softmax')\n",
    "])\n",
    "\n",
    "model.compile(optimizer='adam', loss='sparse_categorical_crossentropy', metrics=['accuracy'])"
   ]
  },
  {
   "cell_type": "code",
   "execution_count": 5,
   "id": "087b0cc7-a359-43af-8bef-f1a14d74c35b",
   "metadata": {},
   "outputs": [
    {
     "name": "stdout",
     "output_type": "stream",
     "text": [
      "Epoch 1/10\n",
      "\u001b[1m4609/4609\u001b[0m \u001b[32m━━━━━━━━━━━━━━━━━━━━\u001b[0m\u001b[37m\u001b[0m \u001b[1m190s\u001b[0m 41ms/step - accuracy: 0.9291 - loss: 0.1955 - val_accuracy: 0.9535 - val_loss: 0.1325\n",
      "Epoch 2/10\n",
      "\u001b[1m4609/4609\u001b[0m \u001b[32m━━━━━━━━━━━━━━━━━━━━\u001b[0m\u001b[37m\u001b[0m \u001b[1m210s\u001b[0m 42ms/step - accuracy: 0.9581 - loss: 0.1159 - val_accuracy: 0.9551 - val_loss: 0.1246\n",
      "Epoch 3/10\n",
      "\u001b[1m4609/4609\u001b[0m \u001b[32m━━━━━━━━━━━━━━━━━━━━\u001b[0m\u001b[37m\u001b[0m \u001b[1m201s\u001b[0m 44ms/step - accuracy: 0.9615 - loss: 0.1021 - val_accuracy: 0.9547 - val_loss: 0.1271\n",
      "Epoch 4/10\n",
      "\u001b[1m4609/4609\u001b[0m \u001b[32m━━━━━━━━━━━━━━━━━━━━\u001b[0m\u001b[37m\u001b[0m \u001b[1m300s\u001b[0m 65ms/step - accuracy: 0.9683 - loss: 0.0824 - val_accuracy: 0.9519 - val_loss: 0.1387\n",
      "Epoch 5/10\n",
      "\u001b[1m4609/4609\u001b[0m \u001b[32m━━━━━━━━━━━━━━━━━━━━\u001b[0m\u001b[37m\u001b[0m \u001b[1m203s\u001b[0m 44ms/step - accuracy: 0.9735 - loss: 0.0682 - val_accuracy: 0.9451 - val_loss: 0.1646\n",
      "Epoch 6/10\n",
      "\u001b[1m4609/4609\u001b[0m \u001b[32m━━━━━━━━━━━━━━━━━━━━\u001b[0m\u001b[37m\u001b[0m \u001b[1m168s\u001b[0m 36ms/step - accuracy: 0.9797 - loss: 0.0532 - val_accuracy: 0.9492 - val_loss: 0.1950\n",
      "Epoch 7/10\n",
      "\u001b[1m4609/4609\u001b[0m \u001b[32m━━━━━━━━━━━━━━━━━━━━\u001b[0m\u001b[37m\u001b[0m \u001b[1m144s\u001b[0m 31ms/step - accuracy: 0.9853 - loss: 0.0404 - val_accuracy: 0.9422 - val_loss: 0.2223\n",
      "Epoch 8/10\n",
      "\u001b[1m4609/4609\u001b[0m \u001b[32m━━━━━━━━━━━━━━━━━━━━\u001b[0m\u001b[37m\u001b[0m \u001b[1m154s\u001b[0m 33ms/step - accuracy: 0.9880 - loss: 0.0324 - val_accuracy: 0.9439 - val_loss: 0.2268\n",
      "Epoch 9/10\n",
      "\u001b[1m4609/4609\u001b[0m \u001b[32m━━━━━━━━━━━━━━━━━━━━\u001b[0m\u001b[37m\u001b[0m \u001b[1m172s\u001b[0m 37ms/step - accuracy: 0.9907 - loss: 0.0262 - val_accuracy: 0.9366 - val_loss: 0.2766\n",
      "Epoch 10/10\n",
      "\u001b[1m4609/4609\u001b[0m \u001b[32m━━━━━━━━━━━━━━━━━━━━\u001b[0m\u001b[37m\u001b[0m \u001b[1m175s\u001b[0m 38ms/step - accuracy: 0.9915 - loss: 0.0230 - val_accuracy: 0.9433 - val_loss: 0.3023\n"
     ]
    }
   ],
   "source": [
    "history = model.fit(X_train_padded, y_train, epochs=10, batch_size=32, validation_data=(X_val_padded, y_val))"
   ]
  },
  {
   "cell_type": "code",
   "execution_count": 6,
   "id": "6a365db8-906e-4135-9477-71c4f232caaf",
   "metadata": {},
   "outputs": [
    {
     "name": "stdout",
     "output_type": "stream",
     "text": [
      "\u001b[1m1153/1153\u001b[0m \u001b[32m━━━━━━━━━━━━━━━━━━━━\u001b[0m\u001b[37m\u001b[0m \u001b[1m18s\u001b[0m 16ms/step\n",
      "Validation Accuracy: 0.94\n",
      "              precision    recall  f1-score   support\n",
      "\n",
      " hate_speech       0.88      0.83      0.85      7311\n",
      "     neither       0.96      0.97      0.96     29560\n",
      "\n",
      "    accuracy                           0.94     36871\n",
      "   macro avg       0.92      0.90      0.91     36871\n",
      "weighted avg       0.94      0.94      0.94     36871\n",
      "\n"
     ]
    }
   ],
   "source": [
    "y_val_pred = model.predict(X_val_padded)\n",
    "y_val_pred_classes = y_val_pred.argmax(axis=1)\n",
    "\n",
    "accuracy = accuracy_score(y_val, y_val_pred_classes)\n",
    "print(f\"Validation Accuracy: {accuracy:.2f}\")\n",
    "print(classification_report(y_val, y_val_pred_classes, target_names=['hate_speech', 'neither']))\n"
   ]
  },
  {
   "cell_type": "code",
   "execution_count": 7,
   "id": "c123eb63-4f9f-46ae-b9fb-5e9eff88a4ee",
   "metadata": {},
   "outputs": [
    {
     "name": "stderr",
     "output_type": "stream",
     "text": [
      "WARNING:absl:You are saving your model as an HDF5 file via `model.save()` or `keras.saving.save_model(model)`. This file format is considered legacy. We recommend using instead the native Keras format, e.g. `model.save('my_model.keras')` or `keras.saving.save_model(model, 'my_model.keras')`. \n"
     ]
    }
   ],
   "source": [
    "model.save('hate_speech_model.h5')"
   ]
  },
  {
   "cell_type": "code",
   "execution_count": 5,
   "id": "e7f15681-f015-4144-9085-8ca6a67c0f4f",
   "metadata": {},
   "outputs": [
    {
     "name": "stderr",
     "output_type": "stream",
     "text": [
      "WARNING:absl:Compiled the loaded model, but the compiled metrics have yet to be built. `model.compile_metrics` will be empty until you train or evaluate the model.\n"
     ]
    }
   ],
   "source": [
    "loaded_model = tf.keras.models.load_model('hate_speech_model.h5')"
   ]
  },
  {
   "cell_type": "code",
   "execution_count": 6,
   "id": "7874ce94-3150-49c4-b4bd-9bb2ccf2dfce",
   "metadata": {},
   "outputs": [
    {
     "name": "stdout",
     "output_type": "stream",
     "text": [
      "Tokenizer saved successfully.\n"
     ]
    }
   ],
   "source": [
    "import pickle\n",
    "\n",
    "with open(\"tokenizer.pkl\", \"wb\") as f:\n",
    "    pickle.dump(tokenizer, f)\n",
    "print(\"Tokenizer saved successfully.\")\n"
   ]
  },
  {
   "cell_type": "code",
   "execution_count": 8,
   "id": "68759659-1cd5-4c17-89d2-9e41ee32a8ff",
   "metadata": {},
   "outputs": [
    {
     "name": "stdout",
     "output_type": "stream",
     "text": [
      "\u001b[1m1/1\u001b[0m \u001b[32m━━━━━━━━━━━━━━━━━━━━\u001b[0m\u001b[37m\u001b[0m \u001b[1m0s\u001b[0m 22ms/step\n",
      "Comment: you are fat.\n",
      "Predicted Label: hate_speech\n",
      "Comment: This is a nice comment.\n",
      "Predicted Label: neither\n"
     ]
    }
   ],
   "source": [
    "examples = [\"you are fat.\", \"This is a nice comment.\"]\n",
    "examples_cleaned = [clean_text(text) for text in examples]\n",
    "examples_seq = tokenizer.texts_to_sequences(examples_cleaned)\n",
    "examples_padded = pad_sequences(examples_seq, maxlen=100, padding='post')\n",
    "\n",
    "predictions = loaded_model.predict(examples_padded)\n",
    "predicted_classes = predictions.argmax(axis=1)\n",
    "\n",
    "for text, label in zip(examples, predicted_classes):\n",
    "    print(f\"Comment: {text}\")\n",
    "    print(f\"Predicted Label: {'hate_speech' if label == 0 else 'neither'}\")\n"
   ]
  }
 ],
 "metadata": {
  "kernelspec": {
   "display_name": "Python 3 (ipykernel)",
   "language": "python",
   "name": "python3"
  },
  "language_info": {
   "codemirror_mode": {
    "name": "ipython",
    "version": 3
   },
   "file_extension": ".py",
   "mimetype": "text/x-python",
   "name": "python",
   "nbconvert_exporter": "python",
   "pygments_lexer": "ipython3",
   "version": "3.12.7"
  }
 },
 "nbformat": 4,
 "nbformat_minor": 5
}
